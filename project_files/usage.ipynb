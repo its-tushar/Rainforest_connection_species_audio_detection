{
 "cells": [
  {
   "cell_type": "markdown",
   "metadata": {
    "id": "FTIitlOxwMIY"
   },
   "source": [
    "Checking usage of test_helper"
   ]
  },
  {
   "cell_type": "code",
   "execution_count": 13,
   "metadata": {
    "id": "7dpQ_hKinkLZ"
   },
   "outputs": [],
   "source": [
    "from test_helper import test_spectrogram,test_pad,test_normalise"
   ]
  },
  {
   "cell_type": "code",
   "execution_count": 3,
   "metadata": {
    "id": "zOEJd3ngnkJS"
   },
   "outputs": [],
   "source": [
    "import numpy as np\n",
    "k=np.array([i+0.1 for i in range(4000)]) # Generating dummy input"
   ]
  },
  {
   "cell_type": "code",
   "execution_count": 4,
   "metadata": {
    "colab": {
     "base_uri": "https://localhost:8080/"
    },
    "id": "BgRtkDBcnkHf",
    "outputId": "fe1c7bc7-3d4d-414b-e4a2-45c864cfa9ef"
   },
   "outputs": [
    {
     "name": "stdout",
     "output_type": "stream",
     "text": [
      "True\n"
     ]
    }
   ],
   "source": [
    "print(test_spectrogram(k))"
   ]
  },
  {
   "cell_type": "code",
   "execution_count": 14,
   "metadata": {
    "colab": {
     "base_uri": "https://localhost:8080/"
    },
    "id": "bTAQ04nVwebB",
    "outputId": "c42fed2f-5fdc-437b-a7ef-bdc7414f4700"
   },
   "outputs": [
    {
     "name": "stdout",
     "output_type": "stream",
     "text": [
      "True\n"
     ]
    }
   ],
   "source": [
    "print(test_pad(k))"
   ]
  },
  {
   "cell_type": "markdown",
   "metadata": {
    "id": "yfQ84pC_wvpS"
   },
   "source": [
    "Checking usage of test_pipeline"
   ]
  },
  {
   "cell_type": "code",
   "execution_count": 15,
   "metadata": {
    "id": "cM4LqaFvweVb"
   },
   "outputs": [],
   "source": [
    "from test_pipeline import test_load_audio"
   ]
  },
  {
   "cell_type": "code",
   "execution_count": 18,
   "metadata": {
    "colab": {
     "base_uri": "https://localhost:8080/"
    },
    "id": "ZsErS5twxF5E",
    "outputId": "62d85870-89e8-4e65-83c8-e94f30095aef"
   },
   "outputs": [
    {
     "name": "stdout",
     "output_type": "stream",
     "text": [
      "True\n"
     ]
    }
   ],
   "source": [
    "print(test_load_audio(1))"
   ]
  },
  {
   "cell_type": "markdown",
   "metadata": {
    "id": "R9Vlxa3vxL3r"
   },
   "source": [
    "Checking usage of predict function"
   ]
  },
  {
   "cell_type": "code",
   "execution_count": 8,
   "metadata": {
    "id": "A_Y-lUaXnkC4"
   },
   "outputs": [],
   "source": [
    "from pipeline import final"
   ]
  },
  {
   "cell_type": "code",
   "execution_count": 9,
   "metadata": {
    "id": "1pVUiX0SnkA5"
   },
   "outputs": [],
   "source": [
    "obj=final()"
   ]
  },
  {
   "cell_type": "code",
   "execution_count": 12,
   "metadata": {
    "colab": {
     "base_uri": "https://localhost:8080/"
    },
    "id": "Iu5aSv47nj-P",
    "outputId": "5a7cc732-38b2-4453-bd7b-a594f2e47d0e"
   },
   "outputs": [
    {
     "name": "stdout",
     "output_type": "stream",
     "text": [
      "+--------------+----------+----------------------+----------------+\n",
      "| Recording ID | Duration | Predicted Species ID |   Time Taken   |\n",
      "+--------------+----------+----------------------+----------------+\n",
      "|  006ab765f   |  6.084   |          23          | 0:00:00.306394 |\n",
      "+--------------+----------+----------------------+----------------+\n"
     ]
    }
   ],
   "source": [
    "obj.predict(1)"
   ]
  },
  {
   "cell_type": "code",
   "execution_count": 19,
   "metadata": {
    "colab": {
     "base_uri": "https://localhost:8080/"
    },
    "id": "G22wIsX6nj8Y",
    "outputId": "23ac550c-401c-4409-9e95-9e5d21fa87be"
   },
   "outputs": [
    {
     "name": "stdout",
     "output_type": "stream",
     "text": [
      "+--------------+----------+----------------------+----------------+\n",
      "| Recording ID | Duration | Predicted Species ID |   Time Taken   |\n",
      "+--------------+----------+----------------------+----------------+\n",
      "|  090ae427d   |  3.141   |          7           | 0:00:00.288515 |\n",
      "+--------------+----------+----------------------+----------------+\n"
     ]
    }
   ],
   "source": [
    "obj.predict(45)"
   ]
  },
  {
   "cell_type": "code",
   "execution_count": null,
   "metadata": {
    "id": "F_Sc0CQsnj6J"
   },
   "outputs": [],
   "source": []
  }
 ],
 "metadata": {
  "colab": {
   "collapsed_sections": [],
   "name": "usage.ipynb",
   "provenance": []
  },
  "kernelspec": {
   "display_name": "Python 3",
   "language": "python",
   "name": "python3"
  },
  "language_info": {
   "codemirror_mode": {
    "name": "ipython",
    "version": 3
   },
   "file_extension": ".py",
   "mimetype": "text/x-python",
   "name": "python",
   "nbconvert_exporter": "python",
   "pygments_lexer": "ipython3",
   "version": "3.7.2"
  }
 },
 "nbformat": 4,
 "nbformat_minor": 1
}
