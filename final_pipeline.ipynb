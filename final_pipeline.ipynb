{
 "cells": [
  {
   "cell_type": "code",
   "execution_count": 1,
   "metadata": {
    "id": "mMRbCAIMAfBV"
   },
   "outputs": [],
   "source": [
    "# Importing required libraries\n",
    "import pandas as pd\n",
    "from tqdm.notebook import tnrange\n",
    "import librosa\n",
    "import pickle\n",
    "import ast\n",
    "import numpy as np\n",
    "import scipy\n",
    "import datetime\n",
    "from tqdm.notebook import tqdm\n",
    "from prettytable import PrettyTable\n",
    "from tensorflow.keras.layers import Input, GRU,LSTM, Dense,Masking,Concatenate,GlobalAveragePooling1D,Dropout,Conv2D,TimeDistributed,Conv1D,BatchNormalization,Activation\n",
    "from tensorflow.keras.models import Model\n",
    "import tensorflow as tf\n",
    "from sklearn.metrics import log_loss\n",
    "from keras.models import model_from_json"
   ]
  },
  {
   "cell_type": "code",
   "execution_count": 2,
   "metadata": {
    "id": "1bzI5zaVAe82"
   },
   "outputs": [],
   "source": [
    "class final:\n",
    "    def load_files(self):\n",
    "        # This function loads all required files\n",
    "        #https://machinelearningmastery.com/save-load-keras-deep-learning-models/\n",
    "        json_file = open(\"/content/model_1.json\", 'r')\n",
    "        loaded_model_json = json_file.read()\n",
    "        json_file.close()\n",
    "        self.model = model_from_json(loaded_model_json)\n",
    "        # load weights into model\n",
    "        self.model.load_weights(\"/content/model_1.h5\")\n",
    "        self.data=pd.read_csv('train_tp_1.csv')\n",
    "\n",
    "    def spectrogram(self,pad_signal):\n",
    "        # This function converts raw audio data to time series\n",
    "        mel = librosa.feature.melspectrogram(y=pad_signal, sr=48000, n_mels=64)\n",
    "        log_spec = librosa.power_to_db(S=mel, ref=np.max)\n",
    "        return log_spec\n",
    "\n",
    "    def pad(self,data):\n",
    "        # This function pads the data\n",
    "        max_length=570776\n",
    "        k=list(data)\n",
    "        k.extend(0 for i in range(max_length-len(k)))    \n",
    "        return (np.array(k))\n",
    "\n",
    "    def load_audio(self,id):\n",
    "        # This function loads the audio file\n",
    "        path = '{}.flac'.format(self.data['recording_id'][id])\n",
    "        audio_signal,sample_rate=librosa.load(path,sr=None) #Audio files are already encoded with sample rate of \n",
    "                                                   #  48000, so we don't need to resample them.\n",
    "        signal=audio_signal[int(self.data['t_min'][id]*48000):int(self.data['t_max'][id]*48000)+1] \n",
    "        duration=self.data['t_max'][id]-self.data['t_min'][id]\n",
    "        return(signal,duration)   \n",
    "\n",
    "    def normalise(self,spec):\n",
    "        # This function normalize the data\n",
    "        mean=-69.59436665357703\n",
    "        std=19.596147689935908\n",
    "        spec=(spec-mean)/std\n",
    "        return(spec)\n",
    "\n",
    "    def one_hot_encoding(self,true_species):\n",
    "        # This function one hot encode the true species id in order to calculate the log loss\n",
    "        one_hot=[0 for i in range(24)]\n",
    "        one_hot[true_species]=1\n",
    "        return(one_hot)    \n",
    "\n",
    "    def logloss(self,actual_species,pred_array):\n",
    "        # This function calculates log loss\n",
    "        one_hot=self.one_hot_encoding(actual_species)\n",
    "        loss=log_loss([one_hot],[pred_array])\n",
    "        return(loss)\n",
    "\n",
    "    def final_fun_1(self,id):\n",
    "        # This function takes index of recording id as input and return the predicted species id\n",
    "        self.load_files() # Loads files\n",
    "        start=datetime.datetime.now()\n",
    "        raw_signal,duration=self.load_audio(id) # Load audio file\n",
    "        pad_data=self.pad(raw_signal) # Pads the data\n",
    "        spec=self.spectrogram(pad_data) # \n",
    "        spec=spec.reshape(1,64,1115) # Reshapes the data in order to fed to model\n",
    "        spec=self.normalise(spec) # Converts raw data to spectrogram\n",
    "        pred_array=self.model.predict(spec)[0] # Predicts probabilities for each species\n",
    "        pred_label=list(pred_array).index(max(pred_array)) # Calculate the species ID\n",
    "\n",
    "        x = PrettyTable([\"Recording ID\",\"Duration\", \"Predicted Species ID\",'Time Taken'])\n",
    "        row = [self.data['recording_id'][id],np.round(duration,3),pred_label,datetime.datetime.now()-start]\n",
    "        x.add_row(row)\n",
    "        print(x)\n",
    "\n",
    "    def final_fun_2(self,set):\n",
    "        '''This function takes a set of tuple as input and return predicted species and logloss for each tuple.\n",
    "        Each tuple contains index of species ID and actual species id of that recording''' \n",
    "        self.load_files()\n",
    "        x = PrettyTable([\"Recording ID\",\"Duration\", \"Predicted Species ID\",'Actual Species ID','Log Loss','Time Taken'])\n",
    "        for value in set:\n",
    "            start=datetime.datetime.now()\n",
    "            raw_signal,duration=self.load_audio(value[0]) # Load files\n",
    "            pad_data=self.pad(raw_signal) # Pad the data\n",
    "            spec=self.spectrogram(pad_data) # Convert raw data to spectrogram\n",
    "            spec=spec.reshape(1,64,1115) # Reshapes the data in order to fed to model\n",
    "            spec=self.normalise(spec) # Normalize the data\n",
    "            pred_array=self.model.predict(spec)[0] # Predicts probabilities for each species\n",
    "            pred_label=list(pred_array).index(max(pred_array)) # Calculate species ID\n",
    "            actual_species=value[1]\n",
    "            log=self.logloss(actual_species,list(pred_array)) # Computes log loss\n",
    "            row = [self.data['recording_id'][value[0]],np.round(duration,3),pred_label,actual_species,log,datetime.datetime.now()-start]\n",
    "            x.add_row(row)\n",
    "        print(x)    "
   ]
  },
  {
   "cell_type": "code",
   "execution_count": 3,
   "metadata": {
    "id": "0GADUl9bAe6O"
   },
   "outputs": [],
   "source": [
    "test_object=final() #Making object of the class"
   ]
  },
  {
   "cell_type": "code",
   "execution_count": 21,
   "metadata": {
    "colab": {
     "base_uri": "https://localhost:8080/"
    },
    "id": "uXFe8aaWNIHq",
    "outputId": "d4863099-7b2a-4373-c86f-c4e0af9eb66f"
   },
   "outputs": [
    {
     "name": "stdout",
     "output_type": "stream",
     "text": [
      "+--------------+----------+----------------------+----------------+\n",
      "| Recording ID | Duration | Predicted Species ID |   Time Taken   |\n",
      "+--------------+----------+----------------------+----------------+\n",
      "|  5857d6f6d   |  0.896   |          1           | 0:00:00.678392 |\n",
      "+--------------+----------+----------------------+----------------+\n"
     ]
    }
   ],
   "source": [
    "test_object.final_fun_1(432) "
   ]
  },
  {
   "cell_type": "code",
   "execution_count": 22,
   "metadata": {
    "colab": {
     "base_uri": "https://localhost:8080/"
    },
    "id": "QI77HRWWLrnA",
    "outputId": "34abac0f-8528-445f-9a19-2276c2620b7c"
   },
   "outputs": [
    {
     "name": "stdout",
     "output_type": "stream",
     "text": [
      "+--------------+----------+----------------------+----------------+\n",
      "| Recording ID | Duration | Predicted Species ID |   Time Taken   |\n",
      "+--------------+----------+----------------------+----------------+\n",
      "|  9f8ebbfc3   |  3.344   |          15          | 0:00:00.727522 |\n",
      "+--------------+----------+----------------------+----------------+\n"
     ]
    }
   ],
   "source": [
    "test_object.final_fun_1(762) "
   ]
  },
  {
   "cell_type": "code",
   "execution_count": 23,
   "metadata": {
    "colab": {
     "base_uri": "https://localhost:8080/"
    },
    "id": "4NwlebWULxMh",
    "outputId": "43658e80-e9c1-4edc-e2dc-b78185dd4ad8"
   },
   "outputs": [
    {
     "name": "stdout",
     "output_type": "stream",
     "text": [
      "+--------------+----------+----------------------+----------------+\n",
      "| Recording ID | Duration | Predicted Species ID |   Time Taken   |\n",
      "+--------------+----------+----------------------+----------------+\n",
      "|  d96242159   |  0.624   |          13          | 0:00:00.706530 |\n",
      "+--------------+----------+----------------------+----------------+\n"
     ]
    }
   ],
   "source": [
    "test_object.final_fun_1(1045) "
   ]
  },
  {
   "cell_type": "code",
   "execution_count": 4,
   "metadata": {
    "colab": {
     "base_uri": "https://localhost:8080/"
    },
    "id": "AECx-OxQNIDf",
    "outputId": "83d7799e-4118-429a-9513-c7d634f016d1"
   },
   "outputs": [
    {
     "name": "stdout",
     "output_type": "stream",
     "text": [
      "+--------------+----------+----------------------+-------------------+------------------------+----------------+\n",
      "| Recording ID | Duration | Predicted Species ID | Actual Species ID |        Log Loss        |   Time Taken   |\n",
      "+--------------+----------+----------------------+-------------------+------------------------+----------------+\n",
      "|  003bec244   |  0.587   |          14          |         14        |  0.005025476682931185  | 0:00:00.786134 |\n",
      "|  0e799da44   |  0.693   |          18          |         18        | 4.965189873473719e-05  | 0:00:00.250484 |\n",
      "|  59ce91d00   |  1.835   |          16          |         16        | 2.3841887468734058e-06 | 0:00:00.274340 |\n",
      "+--------------+----------+----------------------+-------------------+------------------------+----------------+\n"
     ]
    }
   ],
   "source": [
    "data=pd.read_csv('train_tp_1.csv')\n",
    "test_object.final_fun_2([(0,data['species_id'][0]),\n",
    "                         (63,data['species_id'][63]),\n",
    "                         (442,data['species_id'][442])])"
   ]
  },
  {
   "cell_type": "code",
   "execution_count": null,
   "metadata": {
    "id": "i5RSzqoDNIBP"
   },
   "outputs": [],
   "source": []
  }
 ],
 "metadata": {
  "colab": {
   "collapsed_sections": [],
   "name": "final2nd.ipynb",
   "provenance": []
  },
  "kernelspec": {
   "display_name": "Python 3",
   "language": "python",
   "name": "python3"
  },
  "language_info": {
   "codemirror_mode": {
    "name": "ipython",
    "version": 3
   },
   "file_extension": ".py",
   "mimetype": "text/x-python",
   "name": "python",
   "nbconvert_exporter": "python",
   "pygments_lexer": "ipython3",
   "version": "3.7.2"
  }
 },
 "nbformat": 4,
 "nbformat_minor": 1
}
